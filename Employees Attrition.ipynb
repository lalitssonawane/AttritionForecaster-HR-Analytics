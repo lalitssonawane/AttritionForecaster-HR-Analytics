{
 "cells": [
  {
   "cell_type": "markdown",
   "id": "6b6e5e91",
   "metadata": {},
   "source": [
    "**Attribute Information**\n",
    "\n",
    "| STT | Attribute Name            | Meaning                                                        |\n",
    "| --- | ------------------------- | -------------------------------------------------------------- |\n",
    "| 1   | Age                       | Employee's age                                                 |\n",
    "| 2   | Gender                    | Employee's Gender                                              |\n",
    "| 3   | BusinessTravel            | Frequency of employees' business trips                         |\n",
    "| 4   | DailyRate                 | Daily salary rate for employees                                |\n",
    "| 5   | Department                | Office of employees                                            |\n",
    "| 6   | DistanceFromHome          | Distance from home in miles to work                            |\n",
    "| 7   | Education                 | Level of education achieved by staff                           |\n",
    "| 8   | EducationField            | Employee's field of study                                      |\n",
    "| 9   | EmployeeCount             | Total number of employees in the organization                 |\n",
    "| 10  | EmployeeNumber            | A unique identifier for each employee record                   |\n",
    "| 11  | EnvironmentSatisfaction   | Employee satisfaction with their working environment          |\n",
    "| 12  | HourlyRate                | Hourly rate for employees                                      |\n",
    "| 13  | JobInvolvement            | Level of involvement required for the employee's job           |\n",
    "| 14  | JobLevel                  | Employee's level of work                                       |\n",
    "| 15  | JobRole                   | The role of employees in the organization                     |\n",
    "| 16  | JobSatisfaction           | Employee satisfaction with their work                          |\n",
    "| 17  | MaritalStatus             | Employee's marital status                                      |\n",
    "| 18  | MonthlyIncome             | Employee's monthly income                                      |\n",
    "| 19  | MonthlyRate               | Monthly salary rate for employees                              |\n",
    "| 20  | NumCompaniesWorked        | Number of companies the employee worked for                    |\n",
    "| 21  | Over18                    | Whether the employee is over 18 years old                     |\n",
    "| 22  | OverTime                  | Do employees work overtime                                    |\n",
    "| 23  | PercentSalaryHike         | Salary increase rate for employees                             |\n",
    "| 24  | PerformanceRating         | The performance rating of the employee                         |\n",
    "| 25  | RelationshipSatisfaction  | Employee satisfaction with their relationships                 |\n",
    "| 26  | StandardHours             | Standard working hours for employees                           |\n",
    "| 27  | StockOptionLevel          | Employee stock option level                                   |\n",
    "| 28  | TotalWorkingYears         | Total number of years the employee has worked                  |\n",
    "| 29  | TrainingTimesLastYear     | Number of times employees were taken to training in the last year |\n",
    "| 30  | WorkLifeBalance           | Employees' perception of their work-life balance               |\n",
    "| 31  | YearsAtCompany            | Number of years employees have been with the company           |\n",
    "| 32  | YearsInCurrentRole        | Number of years the employee has been in their current role    |\n",
    "| 33  | YearsSinceLastPromotion   | Number of years since employee's last promotion                |\n",
    "| 34  | YearsWithCurrManager      | Number of years an employee has been with their current manager |\n",
    "| 35  | Attrition                 | Does the employee leave the organization                        |\n"
   ]
  },
  {
   "cell_type": "markdown",
   "id": "ce0d7c1b",
   "metadata": {},
   "source": [
    "**Meaning of Classifications**\n",
    "\n",
    "- Education: 1 'Below College', 2 'College', 3 'Bachelor', 4 'Master', 5 'Doctor'\n",
    "- EnvironmentSatisfaction: 1 'Low', 2 'Medium', 3 'High', 4 'Very High'\n",
    "- JobInvolvement: 1 'Low', 2 'Medium', 3 'High', 4 'Very High'\n",
    "- JobSatisfaction: 1 'Low', 2 'Medium', 3 'High', 4 'Very High'\n",
    "- PerformanceRating: 1 'Low', 2 'Good', 3 'Excellent', 4 'Outstanding'\n",
    "- RelationshipSatisfaction: 1 'Low', 2 'Medium', 3 'High', 4 'Very High'\n",
    "- WorkLifeBalance: 1 'Bad', 2 'Good', 3 'Better', 4 'Best'"
   ]
  },
  {
   "cell_type": "markdown",
   "id": "cab647d4",
   "metadata": {},
   "source": [
    "# Project Summary: Employee Attrition Prediction\n",
    "\n",
    "**Objective:** Develop a machine learning model to predict employee attrition within an organization.\n",
    "\n",
    "**Background:**\n",
    "- Employee attrition, or the rate at which employees leave a company, is a critical concern for businesses.\n",
    "- Attrition can impact productivity, team dynamics, and overall company performance.\n",
    "\n",
    "**Dataset:**\n",
    "- Utilizing a dataset containing various employee-related features.\n",
    "\n",
    "**Methodology:**\n",
    "- Build a predictive model to classify employees as:\n",
    "  - Likely to stay (no attrition)\n",
    "  - Likely to leave (attrition)"
   ]
  },
  {
   "cell_type": "markdown",
   "id": "a5737d94",
   "metadata": {},
   "source": [
    "# Libraries"
   ]
  },
  {
   "cell_type": "code",
   "execution_count": null,
   "id": "1bdd4d89",
   "metadata": {},
   "outputs": [],
   "source": [
    "import pandas as pd\n",
    "import numpy as np\n",
    "import matplotlib.pyplot as plt\n",
    "import seaborn as sns"
   ]
  },
  {
   "cell_type": "markdown",
   "id": "a1e45311",
   "metadata": {},
   "source": [
    "# Loading the Dataset"
   ]
  },
  {
   "cell_type": "code",
   "execution_count": 2,
   "id": "a451231e",
   "metadata": {
    "scrolled": true
   },
   "outputs": [
    {
     "name": "stdout",
     "output_type": "stream",
     "text": [
      "Shape of data:  (1470, 35)\n"
     ]
    },
    {
     "data": {
      "text/html": [
       "<div>\n",
       "<style scoped>\n",
       "    .dataframe tbody tr th:only-of-type {\n",
       "        vertical-align: middle;\n",
       "    }\n",
       "\n",
       "    .dataframe tbody tr th {\n",
       "        vertical-align: top;\n",
       "    }\n",
       "\n",
       "    .dataframe thead th {\n",
       "        text-align: right;\n",
       "    }\n",
       "</style>\n",
       "<table border=\"1\" class=\"dataframe\">\n",
       "  <thead>\n",
       "    <tr style=\"text-align: right;\">\n",
       "      <th></th>\n",
       "      <th>Age</th>\n",
       "      <th>Attrition</th>\n",
       "      <th>BusinessTravel</th>\n",
       "      <th>DailyRate</th>\n",
       "      <th>Department</th>\n",
       "      <th>DistanceFromHome</th>\n",
       "      <th>Education</th>\n",
       "      <th>EducationField</th>\n",
       "      <th>EmployeeCount</th>\n",
       "      <th>EmployeeNumber</th>\n",
       "      <th>...</th>\n",
       "      <th>RelationshipSatisfaction</th>\n",
       "      <th>StandardHours</th>\n",
       "      <th>StockOptionLevel</th>\n",
       "      <th>TotalWorkingYears</th>\n",
       "      <th>TrainingTimesLastYear</th>\n",
       "      <th>WorkLifeBalance</th>\n",
       "      <th>YearsAtCompany</th>\n",
       "      <th>YearsInCurrentRole</th>\n",
       "      <th>YearsSinceLastPromotion</th>\n",
       "      <th>YearsWithCurrManager</th>\n",
       "    </tr>\n",
       "  </thead>\n",
       "  <tbody>\n",
       "    <tr>\n",
       "      <th>0</th>\n",
       "      <td>41</td>\n",
       "      <td>Yes</td>\n",
       "      <td>Travel_Rarely</td>\n",
       "      <td>1102</td>\n",
       "      <td>Sales</td>\n",
       "      <td>1</td>\n",
       "      <td>2</td>\n",
       "      <td>Life Sciences</td>\n",
       "      <td>1</td>\n",
       "      <td>1</td>\n",
       "      <td>...</td>\n",
       "      <td>1</td>\n",
       "      <td>80</td>\n",
       "      <td>0</td>\n",
       "      <td>8</td>\n",
       "      <td>0</td>\n",
       "      <td>1</td>\n",
       "      <td>6</td>\n",
       "      <td>4</td>\n",
       "      <td>0</td>\n",
       "      <td>5</td>\n",
       "    </tr>\n",
       "    <tr>\n",
       "      <th>1</th>\n",
       "      <td>49</td>\n",
       "      <td>No</td>\n",
       "      <td>Travel_Frequently</td>\n",
       "      <td>279</td>\n",
       "      <td>Research &amp; Development</td>\n",
       "      <td>8</td>\n",
       "      <td>1</td>\n",
       "      <td>Life Sciences</td>\n",
       "      <td>1</td>\n",
       "      <td>2</td>\n",
       "      <td>...</td>\n",
       "      <td>4</td>\n",
       "      <td>80</td>\n",
       "      <td>1</td>\n",
       "      <td>10</td>\n",
       "      <td>3</td>\n",
       "      <td>3</td>\n",
       "      <td>10</td>\n",
       "      <td>7</td>\n",
       "      <td>1</td>\n",
       "      <td>7</td>\n",
       "    </tr>\n",
       "    <tr>\n",
       "      <th>2</th>\n",
       "      <td>37</td>\n",
       "      <td>Yes</td>\n",
       "      <td>Travel_Rarely</td>\n",
       "      <td>1373</td>\n",
       "      <td>Research &amp; Development</td>\n",
       "      <td>2</td>\n",
       "      <td>2</td>\n",
       "      <td>Other</td>\n",
       "      <td>1</td>\n",
       "      <td>4</td>\n",
       "      <td>...</td>\n",
       "      <td>2</td>\n",
       "      <td>80</td>\n",
       "      <td>0</td>\n",
       "      <td>7</td>\n",
       "      <td>3</td>\n",
       "      <td>3</td>\n",
       "      <td>0</td>\n",
       "      <td>0</td>\n",
       "      <td>0</td>\n",
       "      <td>0</td>\n",
       "    </tr>\n",
       "    <tr>\n",
       "      <th>3</th>\n",
       "      <td>33</td>\n",
       "      <td>No</td>\n",
       "      <td>Travel_Frequently</td>\n",
       "      <td>1392</td>\n",
       "      <td>Research &amp; Development</td>\n",
       "      <td>3</td>\n",
       "      <td>4</td>\n",
       "      <td>Life Sciences</td>\n",
       "      <td>1</td>\n",
       "      <td>5</td>\n",
       "      <td>...</td>\n",
       "      <td>3</td>\n",
       "      <td>80</td>\n",
       "      <td>0</td>\n",
       "      <td>8</td>\n",
       "      <td>3</td>\n",
       "      <td>3</td>\n",
       "      <td>8</td>\n",
       "      <td>7</td>\n",
       "      <td>3</td>\n",
       "      <td>0</td>\n",
       "    </tr>\n",
       "    <tr>\n",
       "      <th>4</th>\n",
       "      <td>27</td>\n",
       "      <td>No</td>\n",
       "      <td>Travel_Rarely</td>\n",
       "      <td>591</td>\n",
       "      <td>Research &amp; Development</td>\n",
       "      <td>2</td>\n",
       "      <td>1</td>\n",
       "      <td>Medical</td>\n",
       "      <td>1</td>\n",
       "      <td>7</td>\n",
       "      <td>...</td>\n",
       "      <td>4</td>\n",
       "      <td>80</td>\n",
       "      <td>1</td>\n",
       "      <td>6</td>\n",
       "      <td>3</td>\n",
       "      <td>3</td>\n",
       "      <td>2</td>\n",
       "      <td>2</td>\n",
       "      <td>2</td>\n",
       "      <td>2</td>\n",
       "    </tr>\n",
       "  </tbody>\n",
       "</table>\n",
       "<p>5 rows × 35 columns</p>\n",
       "</div>"
      ],
      "text/plain": [
       "   Age Attrition     BusinessTravel  DailyRate              Department  \\\n",
       "0   41       Yes      Travel_Rarely       1102                   Sales   \n",
       "1   49        No  Travel_Frequently        279  Research & Development   \n",
       "2   37       Yes      Travel_Rarely       1373  Research & Development   \n",
       "3   33        No  Travel_Frequently       1392  Research & Development   \n",
       "4   27        No      Travel_Rarely        591  Research & Development   \n",
       "\n",
       "   DistanceFromHome  Education EducationField  EmployeeCount  EmployeeNumber  \\\n",
       "0                 1          2  Life Sciences              1               1   \n",
       "1                 8          1  Life Sciences              1               2   \n",
       "2                 2          2          Other              1               4   \n",
       "3                 3          4  Life Sciences              1               5   \n",
       "4                 2          1        Medical              1               7   \n",
       "\n",
       "   ...  RelationshipSatisfaction StandardHours  StockOptionLevel  \\\n",
       "0  ...                         1            80                 0   \n",
       "1  ...                         4            80                 1   \n",
       "2  ...                         2            80                 0   \n",
       "3  ...                         3            80                 0   \n",
       "4  ...                         4            80                 1   \n",
       "\n",
       "   TotalWorkingYears  TrainingTimesLastYear WorkLifeBalance  YearsAtCompany  \\\n",
       "0                  8                      0               1               6   \n",
       "1                 10                      3               3              10   \n",
       "2                  7                      3               3               0   \n",
       "3                  8                      3               3               8   \n",
       "4                  6                      3               3               2   \n",
       "\n",
       "  YearsInCurrentRole  YearsSinceLastPromotion  YearsWithCurrManager  \n",
       "0                  4                        0                     5  \n",
       "1                  7                        1                     7  \n",
       "2                  0                        0                     0  \n",
       "3                  7                        3                     0  \n",
       "4                  2                        2                     2  \n",
       "\n",
       "[5 rows x 35 columns]"
      ]
     },
     "execution_count": 2,
     "metadata": {},
     "output_type": "execute_result"
    }
   ],
   "source": [
    "emp_attrition = pd.read_csv(\"Employee_Attrition.csv\")\n",
    "print(\"Shape of data: \", emp_attrition.shape)\n",
    "emp_attrition.head()"
   ]
  },
  {
   "cell_type": "code",
   "execution_count": 3,
   "id": "abcf5a9d",
   "metadata": {},
   "outputs": [
    {
     "name": "stdout",
     "output_type": "stream",
     "text": [
      "<class 'pandas.core.frame.DataFrame'>\n",
      "RangeIndex: 1470 entries, 0 to 1469\n",
      "Data columns (total 35 columns):\n",
      " #   Column                    Non-Null Count  Dtype \n",
      "---  ------                    --------------  ----- \n",
      " 0   Age                       1470 non-null   int64 \n",
      " 1   Attrition                 1470 non-null   object\n",
      " 2   BusinessTravel            1470 non-null   object\n",
      " 3   DailyRate                 1470 non-null   int64 \n",
      " 4   Department                1470 non-null   object\n",
      " 5   DistanceFromHome          1470 non-null   int64 \n",
      " 6   Education                 1470 non-null   int64 \n",
      " 7   EducationField            1470 non-null   object\n",
      " 8   EmployeeCount             1470 non-null   int64 \n",
      " 9   EmployeeNumber            1470 non-null   int64 \n",
      " 10  EnvironmentSatisfaction   1470 non-null   int64 \n",
      " 11  Gender                    1470 non-null   object\n",
      " 12  HourlyRate                1470 non-null   int64 \n",
      " 13  JobInvolvement            1470 non-null   int64 \n",
      " 14  JobLevel                  1470 non-null   int64 \n",
      " 15  JobRole                   1470 non-null   object\n",
      " 16  JobSatisfaction           1470 non-null   int64 \n",
      " 17  MaritalStatus             1470 non-null   object\n",
      " 18  MonthlyIncome             1470 non-null   int64 \n",
      " 19  MonthlyRate               1470 non-null   int64 \n",
      " 20  NumCompaniesWorked        1470 non-null   int64 \n",
      " 21  Over18                    1470 non-null   object\n",
      " 22  OverTime                  1470 non-null   object\n",
      " 23  PercentSalaryHike         1470 non-null   int64 \n",
      " 24  PerformanceRating         1470 non-null   int64 \n",
      " 25  RelationshipSatisfaction  1470 non-null   int64 \n",
      " 26  StandardHours             1470 non-null   int64 \n",
      " 27  StockOptionLevel          1470 non-null   int64 \n",
      " 28  TotalWorkingYears         1470 non-null   int64 \n",
      " 29  TrainingTimesLastYear     1470 non-null   int64 \n",
      " 30  WorkLifeBalance           1470 non-null   int64 \n",
      " 31  YearsAtCompany            1470 non-null   int64 \n",
      " 32  YearsInCurrentRole        1470 non-null   int64 \n",
      " 33  YearsSinceLastPromotion   1470 non-null   int64 \n",
      " 34  YearsWithCurrManager      1470 non-null   int64 \n",
      "dtypes: int64(26), object(9)\n",
      "memory usage: 402.1+ KB\n"
     ]
    }
   ],
   "source": [
    "emp_attrition.info()"
   ]
  },
  {
   "cell_type": "code",
   "execution_count": 4,
   "id": "0dc344e4",
   "metadata": {
    "scrolled": false
   },
   "outputs": [
    {
     "data": {
      "text/html": [
       "<div>\n",
       "<style scoped>\n",
       "    .dataframe tbody tr th:only-of-type {\n",
       "        vertical-align: middle;\n",
       "    }\n",
       "\n",
       "    .dataframe tbody tr th {\n",
       "        vertical-align: top;\n",
       "    }\n",
       "\n",
       "    .dataframe thead th {\n",
       "        text-align: right;\n",
       "    }\n",
       "</style>\n",
       "<table border=\"1\" class=\"dataframe\">\n",
       "  <thead>\n",
       "    <tr style=\"text-align: right;\">\n",
       "      <th></th>\n",
       "      <th>Age</th>\n",
       "      <th>DailyRate</th>\n",
       "      <th>DistanceFromHome</th>\n",
       "      <th>Education</th>\n",
       "      <th>EmployeeCount</th>\n",
       "      <th>EmployeeNumber</th>\n",
       "      <th>EnvironmentSatisfaction</th>\n",
       "      <th>HourlyRate</th>\n",
       "      <th>JobInvolvement</th>\n",
       "      <th>JobLevel</th>\n",
       "      <th>...</th>\n",
       "      <th>RelationshipSatisfaction</th>\n",
       "      <th>StandardHours</th>\n",
       "      <th>StockOptionLevel</th>\n",
       "      <th>TotalWorkingYears</th>\n",
       "      <th>TrainingTimesLastYear</th>\n",
       "      <th>WorkLifeBalance</th>\n",
       "      <th>YearsAtCompany</th>\n",
       "      <th>YearsInCurrentRole</th>\n",
       "      <th>YearsSinceLastPromotion</th>\n",
       "      <th>YearsWithCurrManager</th>\n",
       "    </tr>\n",
       "  </thead>\n",
       "  <tbody>\n",
       "    <tr>\n",
       "      <th>count</th>\n",
       "      <td>1470.000000</td>\n",
       "      <td>1470.000000</td>\n",
       "      <td>1470.000000</td>\n",
       "      <td>1470.000000</td>\n",
       "      <td>1470.0</td>\n",
       "      <td>1470.000000</td>\n",
       "      <td>1470.000000</td>\n",
       "      <td>1470.000000</td>\n",
       "      <td>1470.000000</td>\n",
       "      <td>1470.000000</td>\n",
       "      <td>...</td>\n",
       "      <td>1470.000000</td>\n",
       "      <td>1470.0</td>\n",
       "      <td>1470.000000</td>\n",
       "      <td>1470.000000</td>\n",
       "      <td>1470.000000</td>\n",
       "      <td>1470.000000</td>\n",
       "      <td>1470.000000</td>\n",
       "      <td>1470.000000</td>\n",
       "      <td>1470.000000</td>\n",
       "      <td>1470.000000</td>\n",
       "    </tr>\n",
       "    <tr>\n",
       "      <th>mean</th>\n",
       "      <td>36.923810</td>\n",
       "      <td>802.485714</td>\n",
       "      <td>9.192517</td>\n",
       "      <td>2.912925</td>\n",
       "      <td>1.0</td>\n",
       "      <td>1024.865306</td>\n",
       "      <td>2.721769</td>\n",
       "      <td>65.891156</td>\n",
       "      <td>2.729932</td>\n",
       "      <td>2.063946</td>\n",
       "      <td>...</td>\n",
       "      <td>2.712245</td>\n",
       "      <td>80.0</td>\n",
       "      <td>0.793878</td>\n",
       "      <td>11.279592</td>\n",
       "      <td>2.799320</td>\n",
       "      <td>2.761224</td>\n",
       "      <td>7.008163</td>\n",
       "      <td>4.229252</td>\n",
       "      <td>2.187755</td>\n",
       "      <td>4.123129</td>\n",
       "    </tr>\n",
       "    <tr>\n",
       "      <th>std</th>\n",
       "      <td>9.135373</td>\n",
       "      <td>403.509100</td>\n",
       "      <td>8.106864</td>\n",
       "      <td>1.024165</td>\n",
       "      <td>0.0</td>\n",
       "      <td>602.024335</td>\n",
       "      <td>1.093082</td>\n",
       "      <td>20.329428</td>\n",
       "      <td>0.711561</td>\n",
       "      <td>1.106940</td>\n",
       "      <td>...</td>\n",
       "      <td>1.081209</td>\n",
       "      <td>0.0</td>\n",
       "      <td>0.852077</td>\n",
       "      <td>7.780782</td>\n",
       "      <td>1.289271</td>\n",
       "      <td>0.706476</td>\n",
       "      <td>6.126525</td>\n",
       "      <td>3.623137</td>\n",
       "      <td>3.222430</td>\n",
       "      <td>3.568136</td>\n",
       "    </tr>\n",
       "    <tr>\n",
       "      <th>min</th>\n",
       "      <td>18.000000</td>\n",
       "      <td>102.000000</td>\n",
       "      <td>1.000000</td>\n",
       "      <td>1.000000</td>\n",
       "      <td>1.0</td>\n",
       "      <td>1.000000</td>\n",
       "      <td>1.000000</td>\n",
       "      <td>30.000000</td>\n",
       "      <td>1.000000</td>\n",
       "      <td>1.000000</td>\n",
       "      <td>...</td>\n",
       "      <td>1.000000</td>\n",
       "      <td>80.0</td>\n",
       "      <td>0.000000</td>\n",
       "      <td>0.000000</td>\n",
       "      <td>0.000000</td>\n",
       "      <td>1.000000</td>\n",
       "      <td>0.000000</td>\n",
       "      <td>0.000000</td>\n",
       "      <td>0.000000</td>\n",
       "      <td>0.000000</td>\n",
       "    </tr>\n",
       "    <tr>\n",
       "      <th>25%</th>\n",
       "      <td>30.000000</td>\n",
       "      <td>465.000000</td>\n",
       "      <td>2.000000</td>\n",
       "      <td>2.000000</td>\n",
       "      <td>1.0</td>\n",
       "      <td>491.250000</td>\n",
       "      <td>2.000000</td>\n",
       "      <td>48.000000</td>\n",
       "      <td>2.000000</td>\n",
       "      <td>1.000000</td>\n",
       "      <td>...</td>\n",
       "      <td>2.000000</td>\n",
       "      <td>80.0</td>\n",
       "      <td>0.000000</td>\n",
       "      <td>6.000000</td>\n",
       "      <td>2.000000</td>\n",
       "      <td>2.000000</td>\n",
       "      <td>3.000000</td>\n",
       "      <td>2.000000</td>\n",
       "      <td>0.000000</td>\n",
       "      <td>2.000000</td>\n",
       "    </tr>\n",
       "    <tr>\n",
       "      <th>50%</th>\n",
       "      <td>36.000000</td>\n",
       "      <td>802.000000</td>\n",
       "      <td>7.000000</td>\n",
       "      <td>3.000000</td>\n",
       "      <td>1.0</td>\n",
       "      <td>1020.500000</td>\n",
       "      <td>3.000000</td>\n",
       "      <td>66.000000</td>\n",
       "      <td>3.000000</td>\n",
       "      <td>2.000000</td>\n",
       "      <td>...</td>\n",
       "      <td>3.000000</td>\n",
       "      <td>80.0</td>\n",
       "      <td>1.000000</td>\n",
       "      <td>10.000000</td>\n",
       "      <td>3.000000</td>\n",
       "      <td>3.000000</td>\n",
       "      <td>5.000000</td>\n",
       "      <td>3.000000</td>\n",
       "      <td>1.000000</td>\n",
       "      <td>3.000000</td>\n",
       "    </tr>\n",
       "    <tr>\n",
       "      <th>75%</th>\n",
       "      <td>43.000000</td>\n",
       "      <td>1157.000000</td>\n",
       "      <td>14.000000</td>\n",
       "      <td>4.000000</td>\n",
       "      <td>1.0</td>\n",
       "      <td>1555.750000</td>\n",
       "      <td>4.000000</td>\n",
       "      <td>83.750000</td>\n",
       "      <td>3.000000</td>\n",
       "      <td>3.000000</td>\n",
       "      <td>...</td>\n",
       "      <td>4.000000</td>\n",
       "      <td>80.0</td>\n",
       "      <td>1.000000</td>\n",
       "      <td>15.000000</td>\n",
       "      <td>3.000000</td>\n",
       "      <td>3.000000</td>\n",
       "      <td>9.000000</td>\n",
       "      <td>7.000000</td>\n",
       "      <td>3.000000</td>\n",
       "      <td>7.000000</td>\n",
       "    </tr>\n",
       "    <tr>\n",
       "      <th>max</th>\n",
       "      <td>60.000000</td>\n",
       "      <td>1499.000000</td>\n",
       "      <td>29.000000</td>\n",
       "      <td>5.000000</td>\n",
       "      <td>1.0</td>\n",
       "      <td>2068.000000</td>\n",
       "      <td>4.000000</td>\n",
       "      <td>100.000000</td>\n",
       "      <td>4.000000</td>\n",
       "      <td>5.000000</td>\n",
       "      <td>...</td>\n",
       "      <td>4.000000</td>\n",
       "      <td>80.0</td>\n",
       "      <td>3.000000</td>\n",
       "      <td>40.000000</td>\n",
       "      <td>6.000000</td>\n",
       "      <td>4.000000</td>\n",
       "      <td>40.000000</td>\n",
       "      <td>18.000000</td>\n",
       "      <td>15.000000</td>\n",
       "      <td>17.000000</td>\n",
       "    </tr>\n",
       "  </tbody>\n",
       "</table>\n",
       "<p>8 rows × 26 columns</p>\n",
       "</div>"
      ],
      "text/plain": [
       "               Age    DailyRate  DistanceFromHome    Education  EmployeeCount  \\\n",
       "count  1470.000000  1470.000000       1470.000000  1470.000000         1470.0   \n",
       "mean     36.923810   802.485714          9.192517     2.912925            1.0   \n",
       "std       9.135373   403.509100          8.106864     1.024165            0.0   \n",
       "min      18.000000   102.000000          1.000000     1.000000            1.0   \n",
       "25%      30.000000   465.000000          2.000000     2.000000            1.0   \n",
       "50%      36.000000   802.000000          7.000000     3.000000            1.0   \n",
       "75%      43.000000  1157.000000         14.000000     4.000000            1.0   \n",
       "max      60.000000  1499.000000         29.000000     5.000000            1.0   \n",
       "\n",
       "       EmployeeNumber  EnvironmentSatisfaction   HourlyRate  JobInvolvement  \\\n",
       "count     1470.000000              1470.000000  1470.000000     1470.000000   \n",
       "mean      1024.865306                 2.721769    65.891156        2.729932   \n",
       "std        602.024335                 1.093082    20.329428        0.711561   \n",
       "min          1.000000                 1.000000    30.000000        1.000000   \n",
       "25%        491.250000                 2.000000    48.000000        2.000000   \n",
       "50%       1020.500000                 3.000000    66.000000        3.000000   \n",
       "75%       1555.750000                 4.000000    83.750000        3.000000   \n",
       "max       2068.000000                 4.000000   100.000000        4.000000   \n",
       "\n",
       "          JobLevel  ...  RelationshipSatisfaction  StandardHours  \\\n",
       "count  1470.000000  ...               1470.000000         1470.0   \n",
       "mean      2.063946  ...                  2.712245           80.0   \n",
       "std       1.106940  ...                  1.081209            0.0   \n",
       "min       1.000000  ...                  1.000000           80.0   \n",
       "25%       1.000000  ...                  2.000000           80.0   \n",
       "50%       2.000000  ...                  3.000000           80.0   \n",
       "75%       3.000000  ...                  4.000000           80.0   \n",
       "max       5.000000  ...                  4.000000           80.0   \n",
       "\n",
       "       StockOptionLevel  TotalWorkingYears  TrainingTimesLastYear  \\\n",
       "count       1470.000000        1470.000000            1470.000000   \n",
       "mean           0.793878          11.279592               2.799320   \n",
       "std            0.852077           7.780782               1.289271   \n",
       "min            0.000000           0.000000               0.000000   \n",
       "25%            0.000000           6.000000               2.000000   \n",
       "50%            1.000000          10.000000               3.000000   \n",
       "75%            1.000000          15.000000               3.000000   \n",
       "max            3.000000          40.000000               6.000000   \n",
       "\n",
       "       WorkLifeBalance  YearsAtCompany  YearsInCurrentRole  \\\n",
       "count      1470.000000     1470.000000         1470.000000   \n",
       "mean          2.761224        7.008163            4.229252   \n",
       "std           0.706476        6.126525            3.623137   \n",
       "min           1.000000        0.000000            0.000000   \n",
       "25%           2.000000        3.000000            2.000000   \n",
       "50%           3.000000        5.000000            3.000000   \n",
       "75%           3.000000        9.000000            7.000000   \n",
       "max           4.000000       40.000000           18.000000   \n",
       "\n",
       "       YearsSinceLastPromotion  YearsWithCurrManager  \n",
       "count              1470.000000           1470.000000  \n",
       "mean                  2.187755              4.123129  \n",
       "std                   3.222430              3.568136  \n",
       "min                   0.000000              0.000000  \n",
       "25%                   0.000000              2.000000  \n",
       "50%                   1.000000              3.000000  \n",
       "75%                   3.000000              7.000000  \n",
       "max                  15.000000             17.000000  \n",
       "\n",
       "[8 rows x 26 columns]"
      ]
     },
     "execution_count": 4,
     "metadata": {},
     "output_type": "execute_result"
    }
   ],
   "source": [
    "emp_attrition.describe()"
   ]
  },
  {
   "cell_type": "markdown",
   "id": "c053c6b3",
   "metadata": {},
   "source": [
    "Based on the provided summary statistics for employee data, here are some conclusions and observations that can be made:\n",
    "\n",
    "- Age Distribution:\n",
    "he average age of employees in the dataset is approximately 36.92 years.\n",
    "The age range spans from 18 years as the minimum to 60 years as the maximum.\n",
    "\n",
    "- Job-Related Factors:\n",
    "The dataset does not contain variations in \"EmployeeCount\" and \"StandardHours\" columns, suggesting that these columns may have constant values and do not provide useful information.\n",
    "\"JobLevel\" and \"JobInvolvement\" values indicate that many employees are at lower job levels and have moderate job involvement.\n",
    "\"TotalWorkingYears\" has a wide range, with an average of approximately 11.28 years.\n",
    "\n",
    "\n",
    "- Employee Tenure:\n",
    "The \"YearsAtCompany,\" \"YearsInCurrentRole,\" \"YearsSinceLastPromotion,\" and \"YearsWithCurrManager\" columns indicate the number of years employees have spent in various roles.\n",
    "The average tenure varies across these roles, with \"YearsAtCompany\" having an average of approximately 7.01 years.\n",
    "\n",
    "- Education and Satisfaction:\n",
    "The \"Education\" column indicates the education level of employees, with values ranging from 1 to 5 (likely representing different education levels).\n",
    "\"EnvironmentSatisfaction,\" \"JobSatisfaction,\" and \"RelationshipSatisfaction\" have average scores around 2.71 to 2.73, suggesting moderate satisfaction levels.\n",
    "\n",
    "- Distance from Home:\n",
    "\"DistanceFromHome\" indicates the distance in miles between employees' homes and their workplaces.\n",
    "The average distance is approximately 9.19 miles.\n"
   ]
  },
  {
   "cell_type": "code",
   "execution_count": 5,
   "id": "c922c745",
   "metadata": {},
   "outputs": [
    {
     "data": {
      "text/plain": [
       "Age                         0\n",
       "Attrition                   0\n",
       "BusinessTravel              0\n",
       "DailyRate                   0\n",
       "Department                  0\n",
       "DistanceFromHome            0\n",
       "Education                   0\n",
       "EducationField              0\n",
       "EmployeeCount               0\n",
       "EmployeeNumber              0\n",
       "EnvironmentSatisfaction     0\n",
       "Gender                      0\n",
       "HourlyRate                  0\n",
       "JobInvolvement              0\n",
       "JobLevel                    0\n",
       "JobRole                     0\n",
       "JobSatisfaction             0\n",
       "MaritalStatus               0\n",
       "MonthlyIncome               0\n",
       "MonthlyRate                 0\n",
       "NumCompaniesWorked          0\n",
       "Over18                      0\n",
       "OverTime                    0\n",
       "PercentSalaryHike           0\n",
       "PerformanceRating           0\n",
       "RelationshipSatisfaction    0\n",
       "StandardHours               0\n",
       "StockOptionLevel            0\n",
       "TotalWorkingYears           0\n",
       "TrainingTimesLastYear       0\n",
       "WorkLifeBalance             0\n",
       "YearsAtCompany              0\n",
       "YearsInCurrentRole          0\n",
       "YearsSinceLastPromotion     0\n",
       "YearsWithCurrManager        0\n",
       "dtype: int64"
      ]
     },
     "execution_count": 5,
     "metadata": {},
     "output_type": "execute_result"
    }
   ],
   "source": [
    "emp_attrition.isnull().sum()"
   ]
  },
  {
   "cell_type": "code",
   "execution_count": 6,
   "id": "23c82020",
   "metadata": {},
   "outputs": [
    {
     "data": {
      "text/plain": [
       "0"
      ]
     },
     "execution_count": 6,
     "metadata": {},
     "output_type": "execute_result"
    }
   ],
   "source": [
    "emp_attrition.duplicated().sum()"
   ]
  },
  {
   "cell_type": "markdown",
   "id": "1ed343ad",
   "metadata": {},
   "source": [
    "\n",
    "# Data Visualization"
   ]
  },
  {
   "cell_type": "code",
   "execution_count": 7,
   "id": "ed131822",
   "metadata": {},
   "outputs": [
    {
     "data": {
      "image/png": "[encoded data removed]",
      "text/plain": [
       "<Figure size 640x480 with 1 Axes>"
      ]
     },
     "metadata": {},
     "output_type": "display_data"
    }
   ],
   "source": [
    "age_attrition  = emp_attrition.groupby(['Age','Attrition'])['Attrition'].count().reset_index(name='Counts')\n",
    "x_values = age_attrition['Age']\n",
    "y_values = age_attrition['Counts']\n",
    "\n",
    "plt.bar(x_values, y_values)\n",
    "plt.xlabel('Age')\n",
    "plt.ylabel('Attrition Count')\n",
    "plt.title('Employee Attrition by Age')\n",
    "plt.show()"
   ]
  },
  {
   "cell_type": "markdown",
   "id": "83915a8f",
   "metadata": {},
   "source": [
    "**The majority of attrition cases occur within the age range of 30 to 40, and the number of attrition cases decreases as the age of employees decreases.**"
   ]
  },
  {
   "cell_type": "code",
   "execution_count": 8,
   "id": "ce6f461f",
   "metadata": {},
   "outputs": [
    {
     "data": {
      "image/png": "[encoded data removed]",
      "text/plain": [
       "<Figure size 640x480 with 1 Axes>"
      ]
     },
     "metadata": {},
     "output_type": "display_data"
    }
   ],
   "source": [
    "businesstravel_attrition  = emp_attrition.groupby(['BusinessTravel','Attrition'])['Attrition'].count().reset_index(name='Counts')\n",
    "business_travel_categories = businesstravel_attrition['BusinessTravel'].unique()\n",
    "attrition_yes_counts = businesstravel_attrition[businesstravel_attrition['Attrition'] == 'Yes']['Counts']\n",
    "attrition_no_counts = businesstravel_attrition[businesstravel_attrition['Attrition'] == 'No']['Counts']\n",
    "\n",
    "bar_width = 0.35\n",
    "\n",
    "x_indices = np.arange(len(business_travel_categories))\n",
    "\n",
    "plt.bar(x_indices - bar_width/2, attrition_yes_counts, bar_width, label='Attrition = Yes', color='b')\n",
    "plt.bar(x_indices + bar_width/2, attrition_no_counts, bar_width, label='Attrition = No', color='g')\n",
    "\n",
    "plt.xlabel('Business Travel')\n",
    "plt.ylabel('Attrition Count')\n",
    "plt.title('Employee Attrition by Business Travel')\n",
    "plt.xticks(x_indices, business_travel_categories)\n",
    "for i in range(len(x_indices)):\n",
    "    plt.text(x_indices[i] - bar_width/2, attrition_yes_counts.iloc[i] + 10, str(attrition_yes_counts.iloc[i]), ha='center')\n",
    "    plt.text(x_indices[i] + bar_width/2, attrition_no_counts.iloc[i] + 10, str(attrition_no_counts.iloc[i]), ha='center')\n",
    "\n",
    "plt.legend()\n",
    "plt.show()"
   ]
  },
  {
   "cell_type": "markdown",
   "id": "7a8d53e2",
   "metadata": {},
   "source": [
    "**The data indicates that employees who travel rarely have the highest attrition rate, followed by those who travel frequently, while employees who do not travel have the lowest attrition rate.**"
   ]
  },
  {
   "cell_type": "code",
   "execution_count": 9,
   "id": "5d0f5584",
   "metadata": {},
   "outputs": [
    {
     "data": {
      "image/png": "[encoded data removed]",
      "text/plain": [
       "<Figure size 640x480 with 1 Axes>"
      ]
     },
     "metadata": {},
     "output_type": "display_data"
    }
   ],
   "source": [
    "department_attrition  = emp_attrition.groupby(['Department','Attrition'])['Attrition'].count().reset_index(name='Counts')\n",
    "department_categories = department_attrition['Department'].unique()\n",
    "attrition_yes_counts = department_attrition[department_attrition['Attrition'] == 'Yes']['Counts']\n",
    "attrition_no_counts = department_attrition[department_attrition['Attrition'] == 'No']['Counts']\n",
    "\n",
    "bar_width = 0.35\n",
    "\n",
    "x_indices = np.arange(len(department_categories))\n",
    "\n",
    "plt.bar(x_indices - bar_width/2, attrition_yes_counts, bar_width, label='Attrition = Yes', color='y')\n",
    "plt.bar(x_indices + bar_width/2, attrition_no_counts, bar_width, label='Attrition = No', color='g')\n",
    "\n",
    "plt.xlabel('Department')\n",
    "plt.ylabel('Attrition Count')\n",
    "plt.title('Employee Attrition by Deparatment')\n",
    "plt.xticks(x_indices, department_categories)\n",
    "for i in range(len(x_indices)):\n",
    "    plt.text(x_indices[i] - bar_width/2, attrition_yes_counts.iloc[i] + 10, str(attrition_yes_counts.iloc[i]), ha='center')\n",
    "    plt.text(x_indices[i] + bar_width/2, attrition_no_counts.iloc[i] + 10, str(attrition_no_counts.iloc[i]), ha='center')\n",
    "\n",
    "plt.legend()\n",
    "plt.show()"
   ]
  },
  {
   "cell_type": "markdown",
   "id": "cb91dd93",
   "metadata": {},
   "source": [
    "**Research & Development\" department has the highest attrition rate, followed by the \"Sales\" department, while the \"Human Resources\" department has the lowest attrition rate**"
   ]
  },
  {
   "cell_type": "code",
   "execution_count": 10,
   "id": "95d042ab",
   "metadata": {},
   "outputs": [
    {
     "data": {
      "image/png": "[encoded data removed]",
      "text/plain": [
       "<Figure size 640x480 with 1 Axes>"
      ]
     },
     "metadata": {},
     "output_type": "display_data"
    }
   ],
   "source": [
    "\n",
    "monthlyincome_attrition = emp_attrition.groupby(['MonthlyIncome','Attrition'])['Attrition'].count().reset_index(name='Counts')\n",
    "attrition_yes_data = monthlyincome_attrition[monthlyincome_attrition['Attrition'] == 'Yes']\n",
    "plt.plot(attrition_yes_data['MonthlyIncome'], attrition_yes_data['Counts'], color='b')\n",
    "plt.xlabel('Monthly Income')\n",
    "plt.ylabel('Attrition Count')\n",
    "plt.title('Monthly Income of Attrition Employees in an Organization')\n",
    "plt.grid(True)\n",
    "plt.show()"
   ]
  },
  {
   "cell_type": "code",
   "execution_count": 11,
   "id": "0f6ba29a",
   "metadata": {},
   "outputs": [
    {
     "data": {
      "text/html": [
       "<div>\n",
       "<style scoped>\n",
       "    .dataframe tbody tr th:only-of-type {\n",
       "        vertical-align: middle;\n",
       "    }\n",
       "\n",
       "    .dataframe tbody tr th {\n",
       "        vertical-align: top;\n",
       "    }\n",
       "\n",
       "    .dataframe thead th {\n",
       "        text-align: right;\n",
       "    }\n",
       "</style>\n",
       "<table border=\"1\" class=\"dataframe\">\n",
       "  <thead>\n",
       "    <tr style=\"text-align: right;\">\n",
       "      <th>EducationField</th>\n",
       "      <th>Human Resources</th>\n",
       "      <th>Life Sciences</th>\n",
       "      <th>Marketing</th>\n",
       "      <th>Medical</th>\n",
       "      <th>Other</th>\n",
       "      <th>Technical Degree</th>\n",
       "    </tr>\n",
       "    <tr>\n",
       "      <th>Education</th>\n",
       "      <th></th>\n",
       "      <th></th>\n",
       "      <th></th>\n",
       "      <th></th>\n",
       "      <th></th>\n",
       "      <th></th>\n",
       "    </tr>\n",
       "  </thead>\n",
       "  <tbody>\n",
       "    <tr>\n",
       "      <th>1</th>\n",
       "      <td>2</td>\n",
       "      <td>67</td>\n",
       "      <td>14</td>\n",
       "      <td>63</td>\n",
       "      <td>5</td>\n",
       "      <td>19</td>\n",
       "    </tr>\n",
       "    <tr>\n",
       "      <th>2</th>\n",
       "      <td>2</td>\n",
       "      <td>116</td>\n",
       "      <td>24</td>\n",
       "      <td>99</td>\n",
       "      <td>19</td>\n",
       "      <td>22</td>\n",
       "    </tr>\n",
       "    <tr>\n",
       "      <th>3</th>\n",
       "      <td>16</td>\n",
       "      <td>233</td>\n",
       "      <td>59</td>\n",
       "      <td>183</td>\n",
       "      <td>24</td>\n",
       "      <td>57</td>\n",
       "    </tr>\n",
       "    <tr>\n",
       "      <th>4</th>\n",
       "      <td>5</td>\n",
       "      <td>173</td>\n",
       "      <td>52</td>\n",
       "      <td>104</td>\n",
       "      <td>33</td>\n",
       "      <td>31</td>\n",
       "    </tr>\n",
       "    <tr>\n",
       "      <th>5</th>\n",
       "      <td>2</td>\n",
       "      <td>17</td>\n",
       "      <td>10</td>\n",
       "      <td>15</td>\n",
       "      <td>1</td>\n",
       "      <td>3</td>\n",
       "    </tr>\n",
       "  </tbody>\n",
       "</table>\n",
       "</div>"
      ],
      "text/plain": [
       "EducationField  Human Resources  Life Sciences  Marketing  Medical  Other  \\\n",
       "Education                                                                   \n",
       "1                             2             67         14       63      5   \n",
       "2                             2            116         24       99     19   \n",
       "3                            16            233         59      183     24   \n",
       "4                             5            173         52      104     33   \n",
       "5                             2             17         10       15      1   \n",
       "\n",
       "EducationField  Technical Degree  \n",
       "Education                         \n",
       "1                             19  \n",
       "2                             22  \n",
       "3                             57  \n",
       "4                             31  \n",
       "5                              3  "
      ]
     },
     "execution_count": 11,
     "metadata": {},
     "output_type": "execute_result"
    }
   ],
   "source": [
    "pd.crosstab(emp_attrition.Education, emp_attrition.EducationField)"
   ]
  },
  {
   "cell_type": "code",
   "execution_count": 12,
   "id": "ffd1c1a5",
   "metadata": {},
   "outputs": [
    {
     "data": {
      "image/png": "[encoded data removed]",
      "text/plain": [
       "<Figure size 640x480 with 1 Axes>"
      ]
     },
     "metadata": {},
     "output_type": "display_data"
    }
   ],
   "source": [
    "sns.set_style(\"whitegrid\")\n",
    "sns.countplot(x = 'Education',hue= 'EducationField', data = emp_attrition)\n",
    "plt.xlabel('Education Level', fontsize=12)\n",
    "plt.ylabel('Count', fontsize=12)\n",
    "plt.title('Count of Education Levels by Education Field', fontsize=14)\n",
    "\n",
    "plt.legend(title='Education Field', title_fontsize=12, fontsize=10, loc='upper right')\n",
    "\n",
    "plt.xticks(rotation=0) \n",
    "plt.tight_layout() \n",
    "plt.show()"
   ]
  },
  {
   "cell_type": "code",
   "execution_count": 13,
   "id": "888eac0b",
   "metadata": {},
   "outputs": [
    {
     "data": {
      "image/png": "[encoded data removed]",
      "text/plain": [
       "<Figure size 640x480 with 1 Axes>"
      ]
     },
     "metadata": {},
     "output_type": "display_data"
    }
   ],
   "source": [
    "education_attrition  = emp_attrition.groupby(['Education','Attrition'])['Attrition'].count().reset_index(name='Counts')\n",
    "education_categories = education_attrition['Education'].unique()\n",
    "attrition_yes_counts = education_attrition[education_attrition['Attrition'] == 'Yes']['Counts']\n",
    "attrition_no_counts = education_attrition[education_attrition['Attrition'] == 'No']['Counts']\n",
    "\n",
    "bar_width = 0.35\n",
    "\n",
    "x_indices = np.arange(len(education_categories))\n",
    "\n",
    "plt.bar(x_indices - bar_width/2, attrition_yes_counts, bar_width, label='Attrition = Yes', color='k')\n",
    "plt.bar(x_indices + bar_width/2, attrition_no_counts, bar_width, label='Attrition = No', color='gray')\n",
    "\n",
    "plt.xlabel('Education')\n",
    "plt.ylabel('Attrition Count')\n",
    "plt.title('Employee Attrition by Deparatment')\n",
    "plt.xticks(x_indices, education_categories)\n",
    "for i in range(len(x_indices)):\n",
    "    plt.text(x_indices[i] - bar_width/2, attrition_yes_counts.iloc[i] + 10, str(attrition_yes_counts.iloc[i]), ha='center')\n",
    "    plt.text(x_indices[i] + bar_width/2, attrition_no_counts.iloc[i] + 10, str(attrition_no_counts.iloc[i]), ha='center')\n",
    "\n",
    "plt.legend()\n",
    "plt.show()"
   ]
  },
  {
   "cell_type": "code",
   "execution_count": 14,
   "id": "e813b081",
   "metadata": {
    "scrolled": true
   },
   "outputs": [
    {
     "name": "stdout",
     "output_type": "stream",
     "text": [
      "1: Below College\n",
      "2: College\n",
      "3: Bachelor\n",
      "4: Master\n",
      "5: Doctor\n"
     ]
    }
   ],
   "source": [
    "education_mapping = {\n",
    "    1: 'Below College',\n",
    "    2: 'College',\n",
    "    3: 'Bachelor',\n",
    "    4: 'Master',\n",
    "    5: 'Doctor'\n",
    "}\n",
    "\n",
    "for key, value in education_mapping.items():\n",
    "    print(f'{key}: {value}')"
   ]
  },
  {
   "cell_type": "markdown",
   "id": "c1b8554a",
   "metadata": {},
   "source": [
    "**Employees with a 'Bachelor' degree have the highest attrition count, followed by those with a 'College' degree and a 'Master' degree**"
   ]
  },
  {
   "cell_type": "code",
   "execution_count": 15,
   "id": "254e3fde",
   "metadata": {},
   "outputs": [
    {
     "data": {
      "image/png": "[encoded data removed]",
      "text/plain": [
       "<Figure size 600x600 with 1 Axes>"
      ]
     },
     "metadata": {},
     "output_type": "display_data"
    }
   ],
   "source": [
    "attrition_counts = emp_attrition['Attrition'].value_counts()\n",
    "colors = ['lightcoral', 'lightskyblue']\n",
    "explode = (0.1, 0.0, )\n",
    "plt.figure(figsize=(6, 6))\n",
    "plt.pie(attrition_counts, labels=attrition_counts.index, autopct='%.2f%%', startangle=90, colors =colors,explode = explode )\n",
    "plt.title('Attrition Distribution')\n",
    "plt.axis('equal')  # Equal aspect ratio ensures that pie is drawn as a circle.\n",
    "\n",
    "\n",
    "plt.show()"
   ]
  },
  {
   "cell_type": "code",
   "execution_count": 33,
   "id": "759e999b",
   "metadata": {
    "scrolled": true
   },
   "outputs": [
    {
     "data": {
      "text/plain": [
       "No     1233\n",
       "Yes     237\n",
       "Name: Attrition, dtype: int64"
      ]
     },
     "execution_count": 33,
     "metadata": {},
     "output_type": "execute_result"
    }
   ],
   "source": [
    "attrition_counts"
   ]
  },
  {
   "cell_type": "markdown",
   "id": "62772105",
   "metadata": {},
   "source": [
    "**Target variable is Imbalanced remember that**"
   ]
  },
  {
   "cell_type": "markdown",
   "id": "f3dd264c",
   "metadata": {},
   "source": [
    "# Label Encoding"
   ]
  },
  {
   "cell_type": "code",
   "execution_count": 16,
   "id": "ed54483e",
   "metadata": {},
   "outputs": [
    {
     "data": {
      "text/plain": [
       "Index(['Attrition', 'BusinessTravel', 'Department', 'EducationField', 'Gender',\n",
       "       'JobRole', 'MaritalStatus', 'Over18', 'OverTime'],\n",
       "      dtype='object')"
      ]
     },
     "execution_count": 16,
     "metadata": {},
     "output_type": "execute_result"
    }
   ],
   "source": [
    "cat_columns = emp_attrition.select_dtypes('O').keys()\n",
    "cat_columns"
   ]
  },
  {
   "cell_type": "code",
   "execution_count": 17,
   "id": "ce32311f",
   "metadata": {},
   "outputs": [],
   "source": [
    "from sklearn.preprocessing import LabelEncoder\n",
    "label_encoder = LabelEncoder()"
   ]
  },
  {
   "cell_type": "code",
   "execution_count": 18,
   "id": "33601d5e",
   "metadata": {},
   "outputs": [],
   "source": [
    "for col in cat_columns:\n",
    "    emp_attrition[col] = label_encoder.fit_transform(emp_attrition[col])"
   ]
  },
  {
   "cell_type": "code",
   "execution_count": 19,
   "id": "e7d61716",
   "metadata": {},
   "outputs": [
    {
     "name": "stdout",
     "output_type": "stream",
     "text": [
      "<class 'pandas.core.frame.DataFrame'>\n",
      "RangeIndex: 1470 entries, 0 to 1469\n",
      "Data columns (total 35 columns):\n",
      " #   Column                    Non-Null Count  Dtype\n",
      "---  ------                    --------------  -----\n",
      " 0   Age                       1470 non-null   int64\n",
      " 1   Attrition                 1470 non-null   int32\n",
      " 2   BusinessTravel            1470 non-null   int32\n",
      " 3   DailyRate                 1470 non-null   int64\n",
      " 4   Department                1470 non-null   int32\n",
      " 5   DistanceFromHome          1470 non-null   int64\n",
      " 6   Education                 1470 non-null   int64\n",
      " 7   EducationField            1470 non-null   int32\n",
      " 8   EmployeeCount             1470 non-null   int64\n",
      " 9   EmployeeNumber            1470 non-null   int64\n",
      " 10  EnvironmentSatisfaction   1470 non-null   int64\n",
      " 11  Gender                    1470 non-null   int32\n",
      " 12  HourlyRate                1470 non-null   int64\n",
      " 13  JobInvolvement            1470 non-null   int64\n",
      " 14  JobLevel                  1470 non-null   int64\n",
      " 15  JobRole                   1470 non-null   int32\n",
      " 16  JobSatisfaction           1470 non-null   int64\n",
      " 17  MaritalStatus             1470 non-null   int32\n",
      " 18  MonthlyIncome             1470 non-null   int64\n",
      " 19  MonthlyRate               1470 non-null   int64\n",
      " 20  NumCompaniesWorked        1470 non-null   int64\n",
      " 21  Over18                    1470 non-null   int32\n",
      " 22  OverTime                  1470 non-null   int32\n",
      " 23  PercentSalaryHike         1470 non-null   int64\n",
      " 24  PerformanceRating         1470 non-null   int64\n",
      " 25  RelationshipSatisfaction  1470 non-null   int64\n",
      " 26  StandardHours             1470 non-null   int64\n",
      " 27  StockOptionLevel          1470 non-null   int64\n",
      " 28  TotalWorkingYears         1470 non-null   int64\n",
      " 29  TrainingTimesLastYear     1470 non-null   int64\n",
      " 30  WorkLifeBalance           1470 non-null   int64\n",
      " 31  YearsAtCompany            1470 non-null   int64\n",
      " 32  YearsInCurrentRole        1470 non-null   int64\n",
      " 33  YearsSinceLastPromotion   1470 non-null   int64\n",
      " 34  YearsWithCurrManager      1470 non-null   int64\n",
      "dtypes: int32(9), int64(26)\n",
      "memory usage: 350.4 KB\n"
     ]
    }
   ],
   "source": [
    "emp_attrition.info()"
   ]
  },
  {
   "cell_type": "markdown",
   "id": "7485a95e",
   "metadata": {},
   "source": [
    "# Data Splitting"
   ]
  },
  {
   "cell_type": "code",
   "execution_count": 21,
   "id": "88fe13b6",
   "metadata": {},
   "outputs": [],
   "source": [
    "X = emp_attrition.drop(['Attrition'], axis =1)\n",
    "y = emp_attrition['Attrition']      "
   ]
  },
  {
   "cell_type": "code",
   "execution_count": 22,
   "id": "de9d9074",
   "metadata": {},
   "outputs": [],
   "source": [
    "from sklearn.model_selection import train_test_split\n",
    "\n",
    "X_train, X_test, y_train, y_test = train_test_split(X, y, test_size=0.2, random_state=42)"
   ]
  },
  {
   "cell_type": "markdown",
   "id": "3305d65a",
   "metadata": {},
   "source": [
    "# Feature Selection"
   ]
  },
  {
   "cell_type": "code",
   "execution_count": 23,
   "id": "4404604c",
   "metadata": {},
   "outputs": [
    {
     "name": "stdout",
     "output_type": "stream",
     "text": [
      "Selected Features for Training Data:\n",
      "Index(['JobLevel', 'MaritalStatus', 'MonthlyIncome', 'OverTime',\n",
      "       'TotalWorkingYears', 'YearsInCurrentRole'],\n",
      "      dtype='object')\n"
     ]
    },
    {
     "name": "stderr",
     "output_type": "stream",
     "text": [
      "C:\\Users\\nikit\\Anaconda\\lib\\site-packages\\sklearn\\feature_selection\\_univariate_selection.py:112: UserWarning: Features [ 7 20 25] are constant.\n",
      "  warnings.warn(\"Features %s are constant.\" % constant_features_idx, UserWarning)\n",
      "C:\\Users\\nikit\\Anaconda\\lib\\site-packages\\sklearn\\feature_selection\\_univariate_selection.py:113: RuntimeWarning: invalid value encountered in divide\n",
      "  f = msb / msw\n"
     ]
    }
   ],
   "source": [
    "from sklearn.feature_selection import SelectKBest, f_classif\n",
    "\n",
    "k_best_train = SelectKBest(score_func=f_classif, k=6)\n",
    "\n",
    "# Fit the feature selector on the training data\n",
    "X_train_new = k_best_train.fit_transform(X_train, y_train)\n",
    "\n",
    "selected_feature_indices_train = k_best_train.get_support(indices=True)\n",
    "\n",
    "selected_features_train = X_train.columns[selected_feature_indices_train]\n",
    "\n",
    "print(\"Selected Features for Training Data:\")\n",
    "print(selected_features_train)\n",
    "\n",
    "X_test_new = k_best_train.transform(X_test)\n"
   ]
  },
  {
   "cell_type": "markdown",
   "id": "102c00da",
   "metadata": {},
   "source": [
    "# RandomOverSampling"
   ]
  },
  {
   "cell_type": "code",
   "execution_count": 24,
   "id": "15fc7dd3",
   "metadata": {},
   "outputs": [
    {
     "name": "stdout",
     "output_type": "stream",
     "text": [
      "Class distribution before oversampling: Counter({0: 1233, 1: 237})\n",
      "Class distribution after oversampling: Counter({1: 1233, 0: 1233})\n"
     ]
    }
   ],
   "source": [
    "from imblearn.over_sampling import RandomOverSampler\n",
    "from collections import Counter\n",
    "print(\"Class distribution before oversampling:\", Counter(y))\n",
    "oversampler = RandomOverSampler(random_state=42)\n",
    "X_resampled, y_resampled = oversampler.fit_resample(X, y)\n",
    "print(\"Class distribution after oversampling:\", Counter(y_resampled))"
   ]
  },
  {
   "cell_type": "code",
   "execution_count": 25,
   "id": "ac3160a7",
   "metadata": {},
   "outputs": [],
   "source": [
    "X_train, X_test_new, y_train, y_test = train_test_split(X_resampled, y_resampled, test_size=0.2, random_state=42)"
   ]
  },
  {
   "cell_type": "markdown",
   "id": "94075aa4",
   "metadata": {},
   "source": [
    "# Logistic Regression"
   ]
  },
  {
   "cell_type": "code",
   "execution_count": 26,
   "id": "e6143ae4",
   "metadata": {},
   "outputs": [
    {
     "name": "stdout",
     "output_type": "stream",
     "text": [
      "Accuracy: 0.64\n",
      "Classification Report:\n",
      "               precision    recall  f1-score   support\n",
      "\n",
      "           0       0.66      0.59      0.63       250\n",
      "           1       0.62      0.69      0.66       244\n",
      "\n",
      "    accuracy                           0.64       494\n",
      "   macro avg       0.64      0.64      0.64       494\n",
      "weighted avg       0.64      0.64      0.64       494\n",
      "\n",
      "Confusion Matrix:\n",
      " [[148 102]\n",
      " [ 75 169]]\n"
     ]
    },
    {
     "name": "stderr",
     "output_type": "stream",
     "text": [
      "C:\\Users\\nikit\\Anaconda\\lib\\site-packages\\sklearn\\linear_model\\_logistic.py:458: ConvergenceWarning: lbfgs failed to converge (status=1):\n",
      "STOP: TOTAL NO. of ITERATIONS REACHED LIMIT.\n",
      "\n",
      "Increase the number of iterations (max_iter) or scale the data as shown in:\n",
      "    https://scikit-learn.org/stable/modules/preprocessing.html\n",
      "Please also refer to the documentation for alternative solver options:\n",
      "    https://scikit-learn.org/stable/modules/linear_model.html#logistic-regression\n",
      "  n_iter_i = _check_optimize_result(\n"
     ]
    }
   ],
   "source": [
    "from sklearn.linear_model import LogisticRegression\n",
    "from sklearn.metrics import accuracy_score, classification_report, confusion_matrix\n",
    "\n",
    "model = LogisticRegression()\n",
    "\n",
    "model.fit(X_train, y_train)\n",
    "\n",
    "y_pred = model.predict(X_test_new)\n",
    "\n",
    "accuracy = accuracy_score(y_test, y_pred)\n",
    "print(f\"Accuracy: {accuracy:.2f}\")\n",
    "\n",
    "classification_rep = classification_report(y_test, y_pred)\n",
    "print(\"Classification Report:\\n\", classification_rep)\n",
    "\n",
    "confusion_mat = confusion_matrix(y_test, y_pred)\n",
    "print(\"Confusion Matrix:\\n\", confusion_mat)"
   ]
  },
  {
   "cell_type": "markdown",
   "id": "d4c66720",
   "metadata": {},
   "source": [
    "# Decision Tree Classifier"
   ]
  },
  {
   "cell_type": "code",
   "execution_count": 27,
   "id": "99653266",
   "metadata": {},
   "outputs": [
    {
     "name": "stdout",
     "output_type": "stream",
     "text": [
      "Accuracy: 0.91\n",
      "Classification Report:\n",
      "               precision    recall  f1-score   support\n",
      "\n",
      "           0       0.98      0.84      0.91       250\n",
      "           1       0.86      0.98      0.92       244\n",
      "\n",
      "    accuracy                           0.91       494\n",
      "   macro avg       0.92      0.91      0.91       494\n",
      "weighted avg       0.92      0.91      0.91       494\n",
      "\n",
      "Confusion Matrix:\n",
      " [[211  39]\n",
      " [  5 239]]\n"
     ]
    }
   ],
   "source": [
    "from sklearn.tree import DecisionTreeClassifier\n",
    "\n",
    "model = DecisionTreeClassifier(random_state=42)\n",
    "\n",
    "model.fit(X_train, y_train)\n",
    "\n",
    "y_pred = model.predict(X_test_new)\n",
    "\n",
    "accuracy = accuracy_score(y_test, y_pred)\n",
    "print(f\"Accuracy: {accuracy:.2f}\")\n",
    "\n",
    "classification_rep = classification_report(y_test, y_pred)\n",
    "print(\"Classification Report:\\n\", classification_rep)\n",
    "\n",
    "confusion_mat = confusion_matrix(y_test, y_pred)\n",
    "print(\"Confusion Matrix:\\n\", confusion_mat)"
   ]
  },
  {
   "cell_type": "markdown",
   "id": "d9241f06",
   "metadata": {},
   "source": [
    "# Random Forest Classifier"
   ]
  },
  {
   "cell_type": "code",
   "execution_count": 28,
   "id": "e202ba53",
   "metadata": {},
   "outputs": [
    {
     "name": "stdout",
     "output_type": "stream",
     "text": [
      "Accuracy: 0.96\n",
      "Classification Report:\n",
      "               precision    recall  f1-score   support\n",
      "\n",
      "           0       0.97      0.95      0.96       250\n",
      "           1       0.95      0.97      0.96       244\n",
      "\n",
      "    accuracy                           0.96       494\n",
      "   macro avg       0.96      0.96      0.96       494\n",
      "weighted avg       0.96      0.96      0.96       494\n",
      "\n",
      "Confusion Matrix:\n",
      " [[238  12]\n",
      " [  8 236]]\n"
     ]
    }
   ],
   "source": [
    "from sklearn.ensemble import RandomForestClassifier\n",
    "\n",
    "model = RandomForestClassifier(n_estimators=100, random_state=42)\n",
    "\n",
    "model.fit(X_train, y_train)\n",
    "\n",
    "y_pred = model.predict(X_test_new)\n",
    "\n",
    "accuracy = accuracy_score(y_test, y_pred)\n",
    "print(f\"Accuracy: {accuracy:.2f}\")\n",
    "\n",
    "classification_rep = classification_report(y_test, y_pred)\n",
    "print(\"Classification Report:\\n\", classification_rep)\n",
    "\n",
    "confusion_mat = confusion_matrix(y_test, y_pred)\n",
    "print(\"Confusion Matrix:\\n\", confusion_mat)"
   ]
  },
  {
   "cell_type": "markdown",
   "id": "c614ce46",
   "metadata": {},
   "source": [
    "# Saving the Model"
   ]
  },
  {
   "cell_type": "markdown",
   "id": "7169594f",
   "metadata": {},
   "source": [
    "**We can conclude that the Random Forest classifier, with its 96% accuracy, is a suitable model for making predictions.**"
   ]
  },
  {
   "cell_type": "code",
   "execution_count": 29,
   "id": "16734d62",
   "metadata": {},
   "outputs": [
    {
     "name": "stdout",
     "output_type": "stream",
     "text": [
      "Model saved as 'model.random_forest'\n"
     ]
    }
   ],
   "source": [
    "import joblib\n",
    "\n",
    "model_filename = 'model.random_forest'\n",
    "joblib.dump(model, model_filename)\n",
    "\n",
    "print(f\"Model saved as '{model_filename}'\")"
   ]
  },
  {
   "cell_type": "code",
   "execution_count": 30,
   "id": "85326681",
   "metadata": {},
   "outputs": [],
   "source": [
    "loaded_model = joblib.load('model.random_forest')"
   ]
  },
  {
   "cell_type": "markdown",
   "id": "7d75d4e9",
   "metadata": {},
   "source": [
    "# Predicting Attrition for Employees ID: 4, 1465, 1468"
   ]
  },
  {
   "cell_type": "code",
   "execution_count": 31,
   "id": "f6949688",
   "metadata": {},
   "outputs": [],
   "source": [
    "column_order = X_train.columns\n",
    "unseen_data = pd.DataFrame({\n",
    "    'EmployeeNumber': [4, 1465, 1468],\n",
    "    'Age': [41, 36, 49],\n",
    "    'BusinessTravel': [2, 1, 1],\n",
    "    'DailyRate': [1102, 884, 1023],\n",
    "    'Department': [2, 1, 2], \n",
    "    'DistanceFromHome': [1, 23, 2],\n",
    "    'Education': [2, 2, 3],\n",
    "    'EducationField': [1, 2, 3], \n",
    "    'EmployeeCount': [1, 1, 1],\n",
    "    'EnvironmentSatisfaction': [2, 4, 3],\n",
    "    'Gender': [0, 1, 0], \n",
    "    'HourlyRate': [94, 41, 63],\n",
    "    'JobInvolvement': [3, 4, 2],\n",
    "    'JobLevel': [2, 2, 2],\n",
    "    'JobRole': [7, 2, 7], \n",
    "    'JobSatisfaction': [4, 4, 2],\n",
    "    'MaritalStatus': [2, 4, 2],  \n",
    "    'MonthlyIncome': [5993, 2571, 5390],\n",
    "    'MonthlyRate': [19479, 12290, 13243],\n",
    "    'NumCompaniesWorked': [8, 4, 2],\n",
    "    'Over18': [0, 0, 0],  \n",
    "    'OverTime': [1, 0, 0], \n",
    "    'PercentSalaryHike': [11, 17, 14],\n",
    "    'PerformanceRating': [3, 3, 3], \n",
    "    'RelationshipSatisfaction': [1, 3, 2],\n",
    "    'StandardHours': [80, 80, 80],\\\n",
    "    'StockOptionLevel': [0, 1, 0],\n",
    "    'TotalWorkingYears': [8, 17, 17],\n",
    "    'TrainingTimesLastYear': [0, 3, 3],\n",
    "    'WorkLifeBalance': [1, 3, 2],\n",
    "    'YearsAtCompany': [6, 5, 9],\n",
    "    'YearsInCurrentRole': [4, 2, 2],\n",
    "    'YearsSinceLastPromotion': [0, 0, 0],\n",
    "    'YearsWithCurrManager': [5, 3, 8]\n",
    "})\n",
    "\n",
    "column_order = X_train.columns\n",
    "X_unseen = unseen_data[column_order]\n",
    "\n",
    "y_pred_unseen = loaded_model.predict(X_unseen)"
   ]
  },
  {
   "cell_type": "code",
   "execution_count": 32,
   "id": "ceb8e93e",
   "metadata": {},
   "outputs": [
    {
     "name": "stdout",
     "output_type": "stream",
     "text": [
      "Predicted Attrition:\n",
      "[1 0 0]\n"
     ]
    }
   ],
   "source": [
    "print(\"Predicted Attrition:\")\n",
    "print(y_pred_unseen)"
   ]
  },
  {
   "cell_type": "markdown",
   "id": "1780bdd7",
   "metadata": {},
   "source": [
    "**The model's predictions align with the actual outcomes. I appreciate the model's accuracy in our employee attrition prediction task. Thank you for your attention to this important aspect of our project**"
   ]
  },
  {
   "cell_type": "code",
   "execution_count": null,
   "id": "f22110ce",
   "metadata": {},
   "outputs": [],
   "source": []
  }
 ],
 "metadata": {
  "kernelspec": {
   "display_name": "Python 3 (ipykernel)",
   "language": "python",
   "name": "python3"
  },
  "language_info": {
   "codemirror_mode": {
    "name": "ipython",
    "version": 3
   },
   "file_extension": ".py",
   "mimetype": "text/x-python",
   "name": "python",
   "nbconvert_exporter": "python",
   "pygments_lexer": "ipython3",
   "version": "3.10.9"
  }
 },
 "nbformat": 4,
 "nbformat_minor": 5
}
